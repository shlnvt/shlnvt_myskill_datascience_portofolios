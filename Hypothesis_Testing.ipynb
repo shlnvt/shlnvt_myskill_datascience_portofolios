{
  "nbformat": 4,
  "nbformat_minor": 0,
  "metadata": {
    "colab": {
      "provenance": [],
      "authorship_tag": "ABX9TyNMce007zmvFzKqk6NVEeh+",
      "include_colab_link": true
    },
    "kernelspec": {
      "name": "python3",
      "display_name": "Python 3"
    },
    "language_info": {
      "name": "python"
    }
  },
  "cells": [
    {
      "cell_type": "markdown",
      "metadata": {
        "id": "view-in-github",
        "colab_type": "text"
      },
      "source": [
        "<a href=\"https://colab.research.google.com/github/shlnvt/shlnvt_myskill_datascience_portofolios/blob/main/Hypothesis_Testing.ipynb\" target=\"_parent\"><img src=\"https://colab.research.google.com/assets/colab-badge.svg\" alt=\"Open In Colab\"/></a>"
      ]
    },
    {
      "cell_type": "markdown",
      "source": [
        "#Library"
      ],
      "metadata": {
        "id": "8Hx8KedxWHiX"
      }
    },
    {
      "cell_type": "code",
      "execution_count": 1,
      "metadata": {
        "id": "fMhGrre2V-p-"
      },
      "outputs": [],
      "source": [
        "import numpy as np\n",
        "import pandas as pd\n",
        "import seaborn as sns\n",
        "import matplotlib.pyplot as plt"
      ]
    },
    {
      "cell_type": "markdown",
      "source": [
        "#Contoh pengujuan hipotesis satu populasi"
      ],
      "metadata": {
        "id": "Zh2d0A-gWRTw"
      }
    },
    {
      "cell_type": "markdown",
      "source": [
        "##Menghitung secara manual"
      ],
      "metadata": {
        "id": "EE0FddfMWWbx"
      }
    },
    {
      "cell_type": "code",
      "source": [
        "nilai = [74, 49, 68, 86, 80, 71, 77, 81, 72, 77]"
      ],
      "metadata": {
        "id": "dvMhjhtrWQYY"
      },
      "execution_count": 2,
      "outputs": []
    },
    {
      "cell_type": "code",
      "source": [
        "x_bar = np.mean(nilai)\n",
        "mu = 80\n",
        "s = np.std(nilai, ddof = 1)\n",
        "n = len(nilai)\n",
        "\n",
        "t_stat = (x_bar - mu) / (s / np.sqrt(n))\n",
        "\n",
        "print(t_stat)"
      ],
      "metadata": {
        "colab": {
          "base_uri": "https://localhost:8080/"
        },
        "id": "5XVuIb5cWjrA",
        "outputId": "fcc83fe3-1e12-4ddf-f05a-0bbf421ce559"
      },
      "execution_count": 3,
      "outputs": [
        {
          "output_type": "stream",
          "name": "stdout",
          "text": [
            "-2.0346749160869684\n"
          ]
        }
      ]
    },
    {
      "cell_type": "code",
      "source": [
        "from scipy.stats import t\n",
        "t.ppf(0.05, n - 1)"
      ],
      "metadata": {
        "colab": {
          "base_uri": "https://localhost:8080/"
        },
        "id": "bqch_7d6Xuud",
        "outputId": "2697279c-528c-486e-8ffc-a79314d77b74"
      },
      "execution_count": 7,
      "outputs": [
        {
          "output_type": "execute_result",
          "data": {
            "text/plain": [
              "-1.8331129326536337"
            ]
          },
          "metadata": {},
          "execution_count": 7
        }
      ]
    },
    {
      "cell_type": "markdown",
      "source": [
        "##Mengggunakan function python"
      ],
      "metadata": {
        "id": "5-CdXTbNX9S_"
      }
    },
    {
      "cell_type": "code",
      "source": [
        "from scipy.stats import ttest_1samp"
      ],
      "metadata": {
        "id": "FYfAEH3MX609"
      },
      "execution_count": 9,
      "outputs": []
    },
    {
      "cell_type": "code",
      "source": [
        "t_stat, p_value = ttest_1samp(nilai, 80)"
      ],
      "metadata": {
        "id": "ZtPY38CpaE55"
      },
      "execution_count": 10,
      "outputs": []
    },
    {
      "cell_type": "code",
      "source": [
        "t_stat"
      ],
      "metadata": {
        "colab": {
          "base_uri": "https://localhost:8080/"
        },
        "id": "0y9i3xtFanl_",
        "outputId": "f8e97dc7-a3b4-4291-9355-0f3d1f0e8346"
      },
      "execution_count": 11,
      "outputs": [
        {
          "output_type": "execute_result",
          "data": {
            "text/plain": [
              "-2.0346749160869684"
            ]
          },
          "metadata": {},
          "execution_count": 11
        }
      ]
    },
    {
      "cell_type": "markdown",
      "source": [
        "#Contoh pengujian hipotesis dua populasi"
      ],
      "metadata": {
        "id": "D3VjiJabaq_f"
      }
    },
    {
      "cell_type": "code",
      "source": [
        "kelas_1 = [74, 49, 68, 86, 80, 71, 77, 81, 72, 77]\n",
        "kelas_2 = [78, 57, 65, 82, 73, 76, 54, 58]"
      ],
      "metadata": {
        "id": "cBVMHfNFao-g"
      },
      "execution_count": 13,
      "outputs": []
    },
    {
      "cell_type": "code",
      "source": [
        "x_bar1 = np.mean(kelas_1)\n",
        "s1 = np.std(kelas_1, ddof = 1)\n",
        "n1 = len(kelas_1)\n",
        "\n",
        "x_bar2 = np.mean(kelas_2)\n",
        "s2 = np.std(kelas_2, ddof = 1)\n",
        "n2 = len(kelas_2)"
      ],
      "metadata": {
        "id": "U8ojjMeia4o5"
      },
      "execution_count": 14,
      "outputs": []
    },
    {
      "cell_type": "code",
      "source": [
        "print(f\"Standard deviasi kelas 1: {s1}\")\n",
        "print(f\"Standard deviasi kelas 2: {s2}\")"
      ],
      "metadata": {
        "colab": {
          "base_uri": "https://localhost:8080/"
        },
        "id": "si7kQVLPbzm4",
        "outputId": "ed1ff94d-8b45-4f97-c8de-f9c118616316"
      },
      "execution_count": 15,
      "outputs": [
        {
          "output_type": "stream",
          "name": "stdout",
          "text": [
            "Standard deviasi kelas 1: 10.102254973794492\n",
            "Standard deviasi kelas 2: 10.76286605483343\n"
          ]
        }
      ]
    },
    {
      "cell_type": "code",
      "source": [
        "df = n1 + n2 - 2\n",
        "sp = np.sqrt(((n1 - 1) * np.power(s1, 2) + (n2 - 1) * np.power(s2, 2))/df)"
      ],
      "metadata": {
        "id": "Ec2b2Wztb_oP"
      },
      "execution_count": 18,
      "outputs": []
    },
    {
      "cell_type": "code",
      "source": [
        "t_stat = (x_bar1 - x_bar2) / (sp * np.sqrt(1/n1 + 1/n2))\n",
        "print(t_stat)"
      ],
      "metadata": {
        "colab": {
          "base_uri": "https://localhost:8080/"
        },
        "id": "yS6Glz_7cZs7",
        "outputId": "e966a571-42cd-49da-c8d6-08b6fdfe678a"
      },
      "execution_count": 19,
      "outputs": [
        {
          "output_type": "stream",
          "name": "stdout",
          "text": [
            "1.140634940065406\n"
          ]
        }
      ]
    },
    {
      "cell_type": "code",
      "source": [
        "from scipy.stats import ttest_ind"
      ],
      "metadata": {
        "id": "bF4YDVEucl9p"
      },
      "execution_count": 20,
      "outputs": []
    },
    {
      "cell_type": "code",
      "source": [
        "t_stat, p_value = ttest_ind(kelas_1, kelas_2, equal_var = True)"
      ],
      "metadata": {
        "id": "TKH642ANdSCd"
      },
      "execution_count": 21,
      "outputs": []
    },
    {
      "cell_type": "code",
      "source": [
        "if p_value < 0.05:\n",
        "  print(\"Nilai kelas 1 dan kelas 2 berbeda\")\n",
        "else:\n",
        "  print(\"Nilai kelas 1 dan kelas 2 sama\")"
      ],
      "metadata": {
        "colab": {
          "base_uri": "https://localhost:8080/"
        },
        "id": "Dim8urjddZ5V",
        "outputId": "38321d05-ee87-4f59-de2c-33795c73dea6"
      },
      "execution_count": 24,
      "outputs": [
        {
          "output_type": "stream",
          "name": "stdout",
          "text": [
            "Nilai kelas 1 dan kelas 2 sama\n"
          ]
        }
      ]
    },
    {
      "cell_type": "code",
      "source": [
        "p_value"
      ],
      "metadata": {
        "colab": {
          "base_uri": "https://localhost:8080/"
        },
        "id": "BBPWIAHZdl24",
        "outputId": "8c52e871-b5a2-491e-909d-7f7bf75807be"
      },
      "execution_count": 25,
      "outputs": [
        {
          "output_type": "execute_result",
          "data": {
            "text/plain": [
              "0.2708083866673808"
            ]
          },
          "metadata": {},
          "execution_count": 25
        }
      ]
    },
    {
      "cell_type": "markdown",
      "source": [
        "#Contoh pengujian hipotesis dua popukasi berpasangan"
      ],
      "metadata": {
        "id": "yuY_AqdgdxOl"
      }
    },
    {
      "cell_type": "code",
      "source": [
        "sebelum = [59, 71, 64, 75, 75, 61, 52, 66, 71, 69]\n",
        "sesudah = [98, 91, 86, 72, 77, 54, 69, 89, 66, 87]"
      ],
      "metadata": {
        "id": "Og01SpjQdsjh"
      },
      "execution_count": 26,
      "outputs": []
    },
    {
      "cell_type": "code",
      "source": [
        "beda = np.array(sesudah) - np.array(sebelum)\n",
        "x_beda = np.mean(beda)\n",
        "sd = np.std(beda, ddof = 1)\n",
        "n = len(beda)\n",
        "mu = 0"
      ],
      "metadata": {
        "id": "8XMIEeMNlnyC"
      },
      "execution_count": 27,
      "outputs": []
    },
    {
      "cell_type": "code",
      "source": [
        "t_stat = (x_beda - mu) / (sd / np.sqrt(n))"
      ],
      "metadata": {
        "id": "klBA4Flbl3fw"
      },
      "execution_count": 28,
      "outputs": []
    },
    {
      "cell_type": "code",
      "source": [
        "t_stat"
      ],
      "metadata": {
        "colab": {
          "base_uri": "https://localhost:8080/"
        },
        "id": "M9tmnNcYmG2Z",
        "outputId": "fab0e4ed-2455-4778-fbfd-e01b70169b77"
      },
      "execution_count": 29,
      "outputs": [
        {
          "output_type": "execute_result",
          "data": {
            "text/plain": [
              "2.6423876827871844"
            ]
          },
          "metadata": {},
          "execution_count": 29
        }
      ]
    },
    {
      "cell_type": "code",
      "source": [
        "from scipy.stats import ttest_rel"
      ],
      "metadata": {
        "id": "NRVI8JEhmHoJ"
      },
      "execution_count": 30,
      "outputs": []
    },
    {
      "cell_type": "code",
      "source": [
        "t_stat, p_value = ttest_rel(sesudah, sebelum)"
      ],
      "metadata": {
        "id": "jqDAldc0mN-o"
      },
      "execution_count": 31,
      "outputs": []
    },
    {
      "cell_type": "code",
      "source": [
        "if p_value < 0.05:\n",
        "  print(\"Nilai sesudah berbeda daripada nilai sebelum\")\n",
        "else:\n",
        "  print(\"Nilai sesudah sama dengan nilai sebelum\")"
      ],
      "metadata": {
        "colab": {
          "base_uri": "https://localhost:8080/"
        },
        "id": "pPBGbV3MmSdr",
        "outputId": "02c5d796-922a-4255-f75d-97476bd0878a"
      },
      "execution_count": 32,
      "outputs": [
        {
          "output_type": "stream",
          "name": "stdout",
          "text": [
            "Nilai sesudah berbeda daripada nilai sebelum\n"
          ]
        }
      ]
    },
    {
      "cell_type": "code",
      "source": [
        "t_stat"
      ],
      "metadata": {
        "colab": {
          "base_uri": "https://localhost:8080/"
        },
        "id": "sEcBKtA-mfK7",
        "outputId": "cdf5fc9a-b180-4e04-e743-388b0fcf8caa"
      },
      "execution_count": 33,
      "outputs": [
        {
          "output_type": "execute_result",
          "data": {
            "text/plain": [
              "2.6423876827871844"
            ]
          },
          "metadata": {},
          "execution_count": 33
        }
      ]
    },
    {
      "cell_type": "markdown",
      "source": [
        "#Uji beda proporsi"
      ],
      "metadata": {
        "id": "SygZdnninV3Q"
      }
    },
    {
      "cell_type": "code",
      "source": [
        "perempuan_selamat = 233\n",
        "total_perempuan = 314\n",
        "laki_selamat = 109\n",
        "total_laki = 577"
      ],
      "metadata": {
        "id": "zvf2bCNTnYNU"
      },
      "execution_count": 34,
      "outputs": []
    },
    {
      "cell_type": "code",
      "source": [
        "proporsi_perempuan = perempuan_selamat / total_perempuan\n",
        "proporsi_laki = laki_selamat / total_laki\n",
        "\n",
        "prop_gabungan = (perempuan_selamat + laki_selamat) / (total_perempuan + total_laki)"
      ],
      "metadata": {
        "id": "Pv4XCgAXntTe"
      },
      "execution_count": 35,
      "outputs": []
    },
    {
      "cell_type": "code",
      "source": [
        "t_stat = (proporsi_perempuan - proporsi_laki) / np.sqrt(prop_gabungan * (1 - prop_gabungan) * (1/ total_perempuan + 1/ total_laki))\n",
        "print(t_stat)"
      ],
      "metadata": {
        "colab": {
          "base_uri": "https://localhost:8080/"
        },
        "id": "ZIVuKF5Lob_y",
        "outputId": "6080894d-3dcf-4289-b1b7-483cdddbdcc8"
      },
      "execution_count": 40,
      "outputs": [
        {
          "output_type": "stream",
          "name": "stdout",
          "text": [
            "16.218833930670097\n"
          ]
        }
      ]
    },
    {
      "cell_type": "code",
      "source": [
        "from statsmodels.stats.proportion import proportions_ztest"
      ],
      "metadata": {
        "id": "dWQ3xjJno_Hn"
      },
      "execution_count": 37,
      "outputs": []
    },
    {
      "cell_type": "code",
      "source": [
        "proportions_ztest([perempuan_selamat, laki_selamat], [total_perempuan, total_laki])"
      ],
      "metadata": {
        "colab": {
          "base_uri": "https://localhost:8080/"
        },
        "id": "v5SI2N50pJal",
        "outputId": "64e51939-8004-40db-ed7d-661d6bbd165c"
      },
      "execution_count": 38,
      "outputs": [
        {
          "output_type": "execute_result",
          "data": {
            "text/plain": [
              "(16.218833930670097, 3.7117477701134797e-59)"
            ]
          },
          "metadata": {},
          "execution_count": 38
        }
      ]
    },
    {
      "cell_type": "code",
      "source": [
        "proporsi_perempuan"
      ],
      "metadata": {
        "colab": {
          "base_uri": "https://localhost:8080/"
        },
        "id": "2-TBkIwlsegV",
        "outputId": "c8ce99a4-5040-49a8-c88f-6c979a13b4aa"
      },
      "execution_count": 41,
      "outputs": [
        {
          "output_type": "execute_result",
          "data": {
            "text/plain": [
              "0.7420382165605095"
            ]
          },
          "metadata": {},
          "execution_count": 41
        }
      ]
    },
    {
      "cell_type": "code",
      "source": [
        "proporsi_laki"
      ],
      "metadata": {
        "colab": {
          "base_uri": "https://localhost:8080/"
        },
        "id": "FB_3FBrZvBV0",
        "outputId": "880632dc-b101-4da4-b6bb-bb6d8ff383bb"
      },
      "execution_count": 42,
      "outputs": [
        {
          "output_type": "execute_result",
          "data": {
            "text/plain": [
              "0.18890814558058924"
            ]
          },
          "metadata": {},
          "execution_count": 42
        }
      ]
    },
    {
      "cell_type": "code",
      "source": [],
      "metadata": {
        "id": "pcqrsLRpvCWJ"
      },
      "execution_count": null,
      "outputs": []
    }
  ]
}