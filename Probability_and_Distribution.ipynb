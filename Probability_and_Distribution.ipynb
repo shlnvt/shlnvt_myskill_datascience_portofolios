{
  "nbformat": 4,
  "nbformat_minor": 0,
  "metadata": {
    "colab": {
      "provenance": [],
      "authorship_tag": "ABX9TyMBYT428yZpaDppcr1/fmgJ",
      "include_colab_link": true
    },
    "kernelspec": {
      "name": "python3",
      "display_name": "Python 3"
    },
    "language_info": {
      "name": "python"
    }
  },
  "cells": [
    {
      "cell_type": "markdown",
      "metadata": {
        "id": "view-in-github",
        "colab_type": "text"
      },
      "source": [
        "<a href=\"https://colab.research.google.com/github/shlnvt/shlnvt_myskill_datascience_portofolios/blob/main/Probability_and_Distribution.ipynb\" target=\"_parent\"><img src=\"https://colab.research.google.com/assets/colab-badge.svg\" alt=\"Open In Colab\"/></a>"
      ]
    },
    {
      "cell_type": "markdown",
      "source": [
        "#Library"
      ],
      "metadata": {
        "id": "GSvsYAIx8kyU"
      }
    },
    {
      "cell_type": "code",
      "execution_count": 1,
      "metadata": {
        "id": "UopoZW9R8aPE"
      },
      "outputs": [],
      "source": [
        "import numpy as np\n",
        "import pandas as pd\n",
        "import seaborn as sns\n",
        "import matplotlib.pyplot as plt"
      ]
    },
    {
      "cell_type": "markdown",
      "source": [
        "#Distribusi Diskret"
      ],
      "metadata": {
        "id": "z7PUHRBJ82r-"
      }
    },
    {
      "cell_type": "markdown",
      "source": [
        "##Distribusi Bernoulli"
      ],
      "metadata": {
        "id": "8vCQ_mwf86_-"
      }
    },
    {
      "cell_type": "code",
      "source": [
        "from scipy.stats import bernoulli\n",
        "koin = bernoulli.rvs(size = 1000, p = 0.5)\n",
        "sns.histplot(koin)\n",
        "plt.show()"
      ],
      "metadata": {
        "colab": {
          "base_uri": "https://localhost:8080/",
          "height": 430
        },
        "id": "oftnS9kY8j1V",
        "outputId": "8720822d-b03b-46ec-ddca-626b5fa03d2b"
      },
      "execution_count": 4,
      "outputs": [
        {
          "output_type": "display_data",
          "data": {
            "text/plain": [
              "<Figure size 640x480 with 1 Axes>"
            ],
            "image/png": "[encoded data removed]"
          },
          "metadata": {}
        }
      ]
    },
    {
      "cell_type": "code",
      "source": [
        "koin"
      ],
      "metadata": {
        "colab": {
          "base_uri": "https://localhost:8080/"
        },
        "id": "OLL9nQCW9Mt1",
        "outputId": "181d011a-9623-4697-9077-c7267b4ffb58"
      },
      "execution_count": 5,
      "outputs": [
        {
          "output_type": "execute_result",
          "data": {
            "text/plain": [
              "array([1, 1, 1, 0, 0, 0, 1, 0, 0, 1, 0, 0, 0, 0, 0, 0, 0, 1, 0, 1, 1, 0,\n",
              "       0, 1, 0, 1, 1, 0, 0, 0, 1, 1, 0, 0, 0, 1, 1, 0, 1, 0, 1, 1, 0, 0,\n",
              "       1, 0, 0, 1, 0, 1, 1, 0, 0, 1, 1, 1, 1, 1, 0, 1, 1, 0, 0, 0, 1, 1,\n",
              "       1, 0, 1, 0, 0, 0, 1, 1, 1, 0, 0, 0, 0, 1, 0, 1, 0, 1, 1, 0, 0, 1,\n",
              "       1, 1, 1, 1, 1, 1, 1, 0, 0, 1, 1, 1, 0, 0, 0, 0, 0, 1, 1, 0, 1, 1,\n",
              "       0, 1, 1, 0, 1, 0, 0, 1, 0, 1, 1, 0, 1, 1, 0, 1, 0, 1, 1, 0, 1, 1,\n",
              "       1, 0, 0, 0, 0, 1, 0, 1, 0, 1, 0, 0, 0, 1, 1, 0, 0, 0, 0, 1, 1, 0,\n",
              "       1, 0, 1, 1, 1, 1, 0, 0, 1, 1, 1, 0, 0, 0, 0, 1, 1, 0, 1, 1, 1, 0,\n",
              "       0, 0, 0, 0, 0, 0, 1, 0, 1, 1, 0, 0, 1, 0, 0, 0, 1, 0, 0, 1, 1, 0,\n",
              "       1, 0, 1, 0, 0, 0, 1, 0, 1, 1, 0, 1, 0, 0, 1, 0, 1, 1, 0, 1, 0, 0,\n",
              "       1, 0, 1, 1, 0, 1, 1, 1, 0, 0, 1, 0, 1, 0, 1, 0, 0, 0, 1, 1, 0, 0,\n",
              "       0, 1, 1, 1, 0, 1, 0, 0, 0, 1, 0, 0, 0, 1, 0, 0, 1, 1, 1, 0, 0, 1,\n",
              "       0, 1, 0, 1, 0, 1, 1, 0, 1, 1, 0, 0, 1, 1, 0, 1, 1, 0, 1, 1, 0, 0,\n",
              "       0, 1, 0, 1, 1, 0, 1, 0, 1, 1, 0, 0, 0, 1, 1, 1, 1, 0, 0, 0, 1, 1,\n",
              "       0, 1, 1, 0, 1, 1, 1, 0, 0, 0, 1, 1, 1, 1, 1, 0, 0, 0, 0, 0, 1, 0,\n",
              "       1, 0, 1, 1, 0, 0, 1, 1, 0, 0, 0, 1, 1, 0, 0, 0, 1, 0, 1, 1, 1, 1,\n",
              "       1, 1, 1, 1, 0, 1, 0, 1, 1, 1, 1, 1, 0, 1, 0, 0, 1, 0, 0, 1, 0, 1,\n",
              "       1, 0, 1, 0, 1, 0, 0, 1, 0, 0, 1, 1, 0, 0, 0, 0, 1, 1, 0, 1, 0, 1,\n",
              "       0, 1, 0, 1, 1, 0, 0, 0, 1, 1, 0, 1, 1, 0, 1, 0, 0, 1, 0, 1, 0, 1,\n",
              "       0, 0, 0, 0, 0, 1, 1, 0, 0, 0, 0, 0, 1, 0, 1, 0, 1, 1, 0, 1, 1, 1,\n",
              "       0, 1, 0, 0, 0, 0, 0, 1, 0, 1, 0, 1, 0, 1, 1, 0, 0, 0, 1, 1, 0, 1,\n",
              "       0, 0, 0, 1, 1, 0, 1, 0, 1, 1, 0, 1, 1, 0, 0, 1, 0, 1, 1, 0, 1, 0,\n",
              "       0, 0, 0, 0, 0, 1, 1, 1, 1, 1, 1, 1, 0, 0, 1, 0, 0, 0, 0, 0, 1, 0,\n",
              "       0, 0, 0, 0, 1, 1, 0, 0, 1, 0, 0, 0, 0, 0, 1, 1, 0, 0, 1, 0, 1, 1,\n",
              "       1, 0, 1, 1, 1, 0, 0, 0, 0, 0, 1, 1, 0, 1, 0, 1, 0, 1, 1, 1, 1, 1,\n",
              "       0, 1, 1, 0, 1, 1, 1, 1, 0, 0, 1, 0, 0, 1, 0, 1, 0, 1, 0, 0, 0, 0,\n",
              "       0, 1, 0, 1, 1, 0, 0, 0, 0, 0, 0, 0, 1, 1, 1, 0, 1, 0, 0, 1, 1, 0,\n",
              "       1, 0, 0, 0, 0, 1, 0, 1, 1, 1, 1, 1, 0, 1, 0, 0, 0, 1, 0, 1, 0, 1,\n",
              "       0, 0, 1, 0, 0, 1, 0, 0, 0, 1, 1, 0, 1, 1, 1, 0, 0, 1, 1, 0, 1, 0,\n",
              "       0, 0, 1, 0, 0, 0, 1, 1, 1, 1, 0, 0, 0, 0, 1, 1, 0, 1, 1, 0, 0, 1,\n",
              "       0, 0, 0, 1, 0, 0, 0, 0, 1, 1, 1, 1, 1, 0, 1, 1, 0, 1, 1, 1, 1, 0,\n",
              "       0, 0, 0, 0, 1, 0, 1, 1, 1, 1, 1, 0, 0, 0, 1, 1, 0, 1, 0, 0, 1, 1,\n",
              "       0, 0, 1, 1, 0, 1, 1, 1, 1, 0, 1, 0, 1, 1, 1, 0, 0, 0, 1, 1, 0, 1,\n",
              "       0, 0, 1, 1, 1, 0, 0, 1, 0, 0, 0, 0, 1, 0, 0, 1, 1, 1, 0, 1, 0, 1,\n",
              "       1, 0, 0, 1, 1, 1, 0, 0, 1, 1, 0, 1, 1, 1, 1, 1, 1, 1, 1, 0, 0, 0,\n",
              "       1, 0, 1, 1, 1, 1, 1, 1, 0, 0, 1, 0, 1, 0, 1, 0, 1, 0, 1, 0, 0, 1,\n",
              "       0, 0, 1, 0, 1, 1, 1, 1, 1, 0, 0, 1, 0, 1, 1, 1, 1, 1, 0, 0, 1, 1,\n",
              "       0, 0, 0, 1, 0, 0, 0, 0, 0, 1, 0, 0, 1, 1, 0, 0, 1, 0, 1, 0, 0, 1,\n",
              "       0, 1, 1, 0, 1, 1, 1, 0, 1, 0, 1, 0, 1, 0, 1, 1, 0, 0, 1, 1, 1, 1,\n",
              "       0, 1, 1, 1, 0, 1, 1, 1, 0, 0, 1, 0, 0, 0, 1, 1, 0, 1, 0, 0, 1, 1,\n",
              "       0, 1, 0, 1, 1, 1, 0, 1, 1, 1, 1, 1, 1, 0, 1, 1, 0, 0, 0, 0, 1, 0,\n",
              "       1, 0, 0, 1, 1, 0, 0, 1, 1, 1, 0, 0, 1, 1, 1, 1, 1, 1, 0, 1, 1, 1,\n",
              "       1, 0, 1, 1, 0, 1, 1, 1, 1, 1, 0, 1, 1, 0, 1, 1, 0, 1, 0, 1, 1, 0,\n",
              "       1, 0, 1, 1, 0, 1, 0, 0, 0, 1, 0, 1, 1, 1, 1, 1, 0, 0, 0, 1, 0, 1,\n",
              "       1, 0, 1, 1, 1, 1, 0, 0, 0, 0, 0, 0, 0, 0, 1, 0, 1, 0, 0, 0, 0, 1,\n",
              "       0, 0, 1, 1, 1, 0, 1, 0, 1, 0])"
            ]
          },
          "metadata": {},
          "execution_count": 5
        }
      ]
    },
    {
      "cell_type": "markdown",
      "source": [
        "##Distribusi Binomial"
      ],
      "metadata": {
        "id": "MEGH8ODk9yTy"
      }
    },
    {
      "cell_type": "code",
      "source": [
        "from scipy.stats import binom\n",
        "koin = binom.rvs (size = 1000, n = 10, p = 0.5)\n",
        "sns.histplot(koin)\n",
        "plt.show()"
      ],
      "metadata": {
        "colab": {
          "base_uri": "https://localhost:8080/",
          "height": 430
        },
        "id": "L6NEs6599eXR",
        "outputId": "2e0d3709-0fca-4aef-faf7-ea01f7ae4048"
      },
      "execution_count": 6,
      "outputs": [
        {
          "output_type": "display_data",
          "data": {
            "text/plain": [
              "<Figure size 640x480 with 1 Axes>"
            ],
            "image/png": "[encoded data removed]"
          },
          "metadata": {}
        }
      ]
    },
    {
      "cell_type": "code",
      "source": [
        "koin"
      ],
      "metadata": {
        "colab": {
          "base_uri": "https://localhost:8080/"
        },
        "id": "M4RyueMG-HM8",
        "outputId": "3d48201f-9ca6-4e96-b85e-d2c2de09a259"
      },
      "execution_count": 7,
      "outputs": [
        {
          "output_type": "execute_result",
          "data": {
            "text/plain": [
              "array([4, 4, 5, 5, 5, 5, 3, 7, 4, 3, 5, 6, 5, 7, 3, 6, 7, 5, 5, 5, 5, 4,\n",
              "       5, 7, 2, 4, 5, 6, 5, 4, 5, 5, 6, 6, 5, 7, 5, 5, 3, 3, 6, 3, 7, 5,\n",
              "       6, 5, 4, 6, 3, 6, 7, 7, 4, 6, 5, 7, 4, 6, 4, 3, 5, 8, 6, 8, 7, 5,\n",
              "       6, 3, 4, 4, 9, 4, 8, 4, 6, 5, 3, 3, 4, 2, 6, 4, 6, 4, 6, 6, 6, 6,\n",
              "       4, 3, 6, 3, 4, 7, 4, 6, 4, 5, 3, 5, 3, 5, 6, 5, 6, 5, 8, 5, 4, 3,\n",
              "       2, 6, 5, 7, 5, 5, 4, 2, 7, 8, 3, 6, 7, 9, 7, 5, 4, 4, 4, 6, 5, 7,\n",
              "       7, 7, 4, 5, 6, 4, 5, 4, 4, 6, 8, 3, 6, 4, 5, 4, 3, 4, 2, 2, 4, 3,\n",
              "       4, 4, 2, 2, 5, 4, 7, 3, 3, 7, 5, 5, 3, 4, 8, 3, 3, 6, 2, 4, 5, 5,\n",
              "       3, 3, 6, 4, 7, 4, 7, 5, 5, 5, 7, 7, 2, 6, 3, 3, 6, 7, 7, 7, 4, 3,\n",
              "       4, 4, 7, 7, 6, 5, 6, 5, 4, 5, 5, 5, 5, 5, 5, 5, 2, 6, 8, 3, 5, 9,\n",
              "       5, 5, 3, 4, 4, 5, 6, 3, 7, 5, 7, 5, 5, 3, 4, 3, 4, 8, 4, 4, 6, 2,\n",
              "       3, 6, 6, 7, 4, 6, 4, 6, 3, 7, 6, 4, 7, 5, 7, 5, 5, 5, 4, 5, 6, 5,\n",
              "       5, 6, 2, 4, 7, 4, 5, 7, 4, 9, 8, 5, 5, 4, 4, 8, 7, 5, 6, 7, 5, 7,\n",
              "       4, 2, 5, 4, 3, 6, 6, 4, 7, 2, 4, 3, 7, 4, 7, 3, 3, 7, 5, 5, 6, 4,\n",
              "       3, 2, 4, 3, 4, 5, 6, 6, 4, 5, 6, 5, 5, 6, 3, 5, 2, 3, 6, 2, 5, 5,\n",
              "       5, 5, 2, 4, 6, 8, 5, 7, 2, 4, 3, 6, 5, 5, 6, 4, 4, 6, 3, 8, 6, 5,\n",
              "       6, 5, 4, 1, 6, 3, 6, 3, 6, 4, 4, 5, 4, 5, 8, 3, 6, 3, 8, 6, 6, 5,\n",
              "       7, 7, 4, 6, 7, 6, 7, 4, 7, 5, 4, 2, 6, 3, 7, 4, 5, 4, 5, 4, 6, 5,\n",
              "       3, 3, 5, 5, 6, 3, 3, 5, 7, 6, 5, 5, 4, 4, 4, 3, 7, 5, 6, 5, 5, 7,\n",
              "       4, 6, 4, 3, 4, 5, 5, 5, 5, 6, 5, 6, 5, 5, 5, 5, 4, 5, 5, 4, 6, 4,\n",
              "       5, 5, 4, 2, 3, 5, 3, 7, 6, 4, 5, 3, 4, 4, 4, 7, 6, 5, 6, 4, 4, 6,\n",
              "       6, 5, 4, 3, 4, 3, 5, 4, 4, 4, 7, 6, 5, 5, 6, 5, 5, 4, 5, 7, 5, 6,\n",
              "       6, 5, 8, 6, 2, 7, 6, 4, 7, 5, 4, 5, 7, 6, 5, 6, 7, 4, 4, 5, 6, 7,\n",
              "       6, 3, 7, 4, 4, 5, 3, 6, 6, 8, 5, 8, 4, 5, 5, 3, 5, 5, 5, 4, 7, 5,\n",
              "       6, 5, 4, 6, 6, 5, 4, 8, 5, 4, 4, 6, 5, 6, 5, 3, 7, 2, 5, 5, 6, 5,\n",
              "       6, 4, 5, 4, 6, 5, 1, 4, 6, 8, 3, 6, 5, 3, 4, 8, 6, 6, 7, 5, 2, 6,\n",
              "       4, 4, 7, 7, 3, 2, 4, 5, 5, 1, 5, 4, 5, 4, 6, 7, 4, 3, 6, 3, 6, 4,\n",
              "       3, 5, 4, 2, 6, 7, 5, 4, 5, 5, 6, 5, 4, 6, 6, 6, 8, 8, 8, 6, 5, 2,\n",
              "       4, 4, 6, 5, 5, 4, 5, 4, 3, 7, 6, 5, 6, 5, 6, 6, 6, 6, 5, 4, 6, 5,\n",
              "       4, 7, 4, 4, 6, 6, 6, 7, 5, 5, 4, 4, 7, 6, 9, 5, 4, 9, 7, 5, 6, 5,\n",
              "       6, 6, 4, 6, 6, 7, 3, 8, 2, 6, 8, 5, 5, 7, 7, 8, 5, 1, 5, 8, 5, 5,\n",
              "       5, 4, 4, 4, 7, 6, 2, 6, 9, 5, 7, 6, 4, 4, 3, 4, 4, 4, 3, 5, 4, 3,\n",
              "       3, 5, 7, 5, 5, 4, 8, 4, 4, 6, 2, 4, 8, 3, 5, 7, 3, 7, 1, 3, 5, 7,\n",
              "       4, 5, 3, 4, 6, 6, 8, 7, 6, 7, 7, 5, 6, 4, 6, 6, 3, 7, 4, 3, 3, 4,\n",
              "       6, 5, 2, 3, 6, 4, 3, 8, 6, 5, 5, 6, 5, 8, 6, 2, 3, 5, 8, 4, 4, 4,\n",
              "       6, 4, 3, 6, 5, 6, 4, 5, 8, 7, 5, 5, 2, 3, 5, 7, 3, 6, 6, 4, 5, 4,\n",
              "       7, 4, 4, 2, 6, 4, 7, 6, 4, 4, 6, 3, 7, 4, 3, 4, 6, 8, 8, 6, 3, 4,\n",
              "       5, 5, 6, 6, 6, 4, 7, 6, 5, 5, 7, 5, 5, 7, 4, 5, 4, 5, 8, 7, 5, 8,\n",
              "       9, 5, 5, 5, 8, 7, 5, 8, 6, 3, 3, 6, 5, 5, 7, 7, 6, 8, 6, 6, 5, 8,\n",
              "       5, 4, 6, 3, 7, 3, 3, 3, 5, 3, 1, 2, 4, 9, 6, 6, 3, 6, 2, 6, 6, 5,\n",
              "       6, 6, 3, 5, 3, 5, 4, 5, 6, 6, 5, 7, 3, 5, 6, 4, 7, 4, 6, 8, 5, 4,\n",
              "       6, 6, 3, 1, 5, 2, 6, 5, 7, 5, 6, 5, 4, 3, 4, 4, 8, 5, 7, 7, 5, 6,\n",
              "       6, 9, 3, 3, 8, 6, 2, 5, 5, 4, 4, 5, 3, 8, 6, 5, 3, 6, 5, 5, 3, 4,\n",
              "       7, 3, 6, 6, 8, 4, 4, 8, 4, 3, 6, 5, 4, 5, 2, 4, 4, 8, 5, 8, 5, 6,\n",
              "       5, 5, 3, 3, 4, 3, 4, 4, 5, 1, 6, 2, 4, 3, 6, 6, 3, 8, 5, 3, 7, 3,\n",
              "       5, 5, 7, 6, 5, 7, 6, 2, 2, 4])"
            ]
          },
          "metadata": {},
          "execution_count": 7
        }
      ]
    },
    {
      "cell_type": "markdown",
      "source": [
        "##Distribusi Poisson"
      ],
      "metadata": {
        "id": "kspwxU25_Blr"
      }
    },
    {
      "cell_type": "code",
      "source": [
        "from scipy.stats import poisson\n",
        "cacat = poisson.rvs(size = 1000, mu = 2)\n",
        "sns.histplot(cacat)\n",
        "plt.show()"
      ],
      "metadata": {
        "colab": {
          "base_uri": "https://localhost:8080/",
          "height": 430
        },
        "id": "bQYQTePY-Q1j",
        "outputId": "952511f3-1fc5-4995-8e4a-a21633f716aa"
      },
      "execution_count": 8,
      "outputs": [
        {
          "output_type": "display_data",
          "data": {
            "text/plain": [
              "<Figure size 640x480 with 1 Axes>"
            ],
            "image/png": "[encoded data removed]"
          },
          "metadata": {}
        }
      ]
    },
    {
      "cell_type": "code",
      "source": [
        "cacat"
      ],
      "metadata": {
        "colab": {
          "base_uri": "https://localhost:8080/"
        },
        "id": "a3WEQcWW_vFH",
        "outputId": "2ae3892d-10ec-4f77-ba9d-bae2ca3f6972"
      },
      "execution_count": 9,
      "outputs": [
        {
          "output_type": "execute_result",
          "data": {
            "text/plain": [
              "array([5, 2, 2, 1, 1, 3, 1, 5, 2, 3, 3, 1, 2, 3, 1, 4, 2, 2, 0, 0, 3, 3,\n",
              "       1, 3, 3, 1, 0, 1, 4, 0, 0, 0, 3, 1, 3, 1, 1, 0, 0, 6, 1, 1, 2, 4,\n",
              "       1, 2, 1, 0, 1, 3, 3, 1, 0, 1, 0, 2, 0, 5, 2, 3, 2, 1, 1, 1, 1, 1,\n",
              "       0, 3, 3, 3, 0, 4, 2, 3, 1, 0, 5, 2, 2, 2, 3, 3, 2, 1, 2, 0, 0, 1,\n",
              "       1, 1, 1, 2, 1, 2, 3, 2, 2, 1, 3, 4, 7, 0, 2, 3, 2, 3, 2, 3, 2, 2,\n",
              "       2, 2, 3, 3, 1, 3, 1, 2, 0, 2, 3, 0, 2, 2, 0, 2, 1, 1, 2, 2, 0, 1,\n",
              "       1, 2, 1, 0, 0, 1, 2, 2, 3, 1, 0, 0, 4, 2, 2, 2, 3, 2, 4, 4, 2, 3,\n",
              "       3, 2, 1, 2, 1, 1, 2, 5, 3, 1, 0, 1, 1, 2, 4, 1, 3, 5, 2, 3, 0, 2,\n",
              "       1, 6, 1, 4, 4, 2, 1, 2, 2, 2, 2, 1, 2, 2, 0, 4, 1, 5, 2, 0, 3, 2,\n",
              "       5, 5, 1, 3, 0, 2, 3, 1, 1, 1, 2, 1, 2, 1, 2, 1, 1, 3, 5, 2, 4, 1,\n",
              "       1, 4, 2, 2, 1, 2, 2, 0, 0, 1, 3, 3, 2, 2, 3, 2, 1, 3, 4, 4, 3, 0,\n",
              "       2, 4, 5, 3, 1, 3, 2, 3, 2, 2, 1, 4, 4, 4, 5, 2, 4, 3, 1, 2, 1, 6,\n",
              "       0, 1, 4, 1, 3, 2, 1, 3, 2, 2, 1, 4, 1, 3, 0, 2, 3, 2, 5, 3, 0, 1,\n",
              "       1, 4, 1, 0, 1, 2, 0, 2, 1, 3, 2, 1, 2, 3, 5, 3, 2, 0, 2, 3, 4, 1,\n",
              "       1, 2, 2, 3, 1, 4, 4, 1, 3, 5, 3, 1, 1, 2, 2, 3, 3, 2, 3, 3, 1, 4,\n",
              "       3, 4, 2, 2, 3, 0, 2, 0, 1, 3, 3, 4, 0, 4, 0, 1, 0, 1, 2, 2, 1, 2,\n",
              "       3, 4, 6, 0, 1, 3, 3, 1, 2, 3, 4, 1, 2, 2, 2, 0, 2, 1, 4, 3, 1, 4,\n",
              "       6, 4, 1, 2, 1, 3, 3, 0, 0, 2, 2, 3, 5, 2, 3, 3, 2, 1, 2, 4, 1, 1,\n",
              "       2, 0, 2, 2, 2, 2, 2, 2, 2, 4, 7, 3, 1, 2, 1, 0, 0, 1, 2, 2, 3, 1,\n",
              "       3, 0, 5, 3, 0, 0, 1, 2, 1, 2, 3, 0, 2, 5, 2, 4, 1, 2, 1, 0, 6, 1,\n",
              "       0, 2, 2, 1, 3, 2, 2, 3, 4, 1, 0, 1, 3, 0, 1, 3, 6, 0, 2, 3, 2, 5,\n",
              "       4, 1, 3, 1, 2, 1, 0, 0, 0, 0, 1, 2, 0, 1, 2, 4, 2, 3, 2, 2, 0, 2,\n",
              "       0, 4, 1, 1, 0, 2, 2, 2, 3, 3, 1, 4, 3, 3, 3, 4, 2, 1, 3, 6, 3, 0,\n",
              "       2, 1, 1, 0, 0, 2, 2, 4, 2, 3, 2, 2, 2, 1, 1, 1, 0, 0, 1, 3, 1, 2,\n",
              "       0, 3, 2, 3, 2, 1, 2, 3, 1, 1, 3, 1, 5, 1, 3, 6, 2, 5, 4, 2, 2, 2,\n",
              "       5, 1, 1, 3, 2, 2, 2, 3, 1, 1, 2, 0, 4, 4, 1, 0, 1, 1, 3, 0, 5, 0,\n",
              "       1, 3, 1, 1, 7, 0, 2, 4, 3, 1, 2, 2, 2, 1, 0, 0, 4, 2, 0, 2, 2, 5,\n",
              "       1, 3, 4, 1, 0, 2, 1, 7, 1, 1, 4, 2, 3, 1, 1, 0, 3, 2, 1, 0, 0, 7,\n",
              "       1, 5, 1, 4, 4, 0, 1, 2, 4, 1, 0, 6, 4, 3, 2, 2, 3, 1, 0, 2, 4, 2,\n",
              "       3, 0, 2, 2, 1, 0, 1, 3, 2, 3, 1, 3, 1, 0, 1, 1, 1, 2, 2, 1, 0, 1,\n",
              "       1, 1, 1, 2, 3, 1, 0, 3, 4, 2, 1, 3, 2, 4, 0, 4, 3, 0, 2, 0, 0, 0,\n",
              "       6, 0, 1, 6, 1, 1, 2, 1, 2, 1, 3, 0, 3, 3, 1, 2, 1, 3, 3, 2, 4, 2,\n",
              "       0, 4, 4, 1, 0, 3, 4, 1, 1, 2, 3, 3, 1, 4, 1, 2, 2, 0, 3, 3, 4, 5,\n",
              "       2, 0, 2, 5, 3, 2, 2, 1, 2, 1, 2, 5, 4, 2, 5, 2, 0, 1, 1, 0, 3, 1,\n",
              "       0, 2, 2, 3, 0, 1, 2, 3, 1, 2, 1, 1, 0, 1, 2, 4, 0, 1, 2, 4, 2, 4,\n",
              "       0, 2, 1, 3, 0, 2, 2, 0, 1, 1, 2, 1, 1, 1, 1, 3, 0, 1, 3, 3, 3, 4,\n",
              "       3, 1, 3, 3, 0, 3, 3, 4, 0, 3, 3, 2, 1, 2, 1, 4, 1, 1, 3, 3, 8, 2,\n",
              "       1, 2, 1, 2, 1, 4, 1, 0, 1, 4, 3, 2, 2, 4, 3, 3, 3, 1, 0, 4, 3, 3,\n",
              "       2, 0, 1, 3, 1, 4, 1, 2, 2, 0, 0, 4, 1, 3, 0, 3, 2, 2, 1, 4, 3, 0,\n",
              "       1, 3, 1, 1, 2, 3, 3, 0, 2, 1, 2, 4, 3, 1, 2, 0, 2, 3, 3, 6, 0, 1,\n",
              "       2, 0, 1, 1, 2, 4, 1, 1, 2, 1, 1, 2, 5, 1, 1, 2, 4, 2, 3, 2, 2, 4,\n",
              "       0, 0, 1, 2, 0, 1, 0, 2, 3, 0, 2, 2, 0, 1, 1, 1, 7, 3, 2, 0, 3, 5,\n",
              "       0, 2, 2, 7, 4, 3, 0, 1, 4, 2, 4, 4, 2, 2, 3, 1, 1, 2, 2, 1, 4, 5,\n",
              "       0, 4, 0, 1, 1, 1, 0, 0, 4, 5, 3, 0, 3, 0, 2, 3, 6, 2, 1, 2, 2, 3,\n",
              "       2, 4, 1, 2, 2, 1, 0, 1, 3, 3, 2, 2, 2, 2, 2, 2, 1, 1, 3, 3, 2, 2,\n",
              "       2, 2, 2, 1, 3, 2, 2, 2, 2, 0])"
            ]
          },
          "metadata": {},
          "execution_count": 9
        }
      ]
    },
    {
      "cell_type": "markdown",
      "source": [
        "#Distribusi Kontinu"
      ],
      "metadata": {
        "id": "3wsu0BFlAeX0"
      }
    },
    {
      "cell_type": "markdown",
      "source": [
        "##Distribusi seragam"
      ],
      "metadata": {
        "id": "ew9RVJUdAueL"
      }
    },
    {
      "cell_type": "code",
      "source": [
        "from scipy.stats import uniform\n",
        "uniform_data = uniform.rvs(size = 1000, loc = 0, scale = 9)\n",
        "sns.histplot(uniform_data)\n",
        "plt.show()"
      ],
      "metadata": {
        "colab": {
          "base_uri": "https://localhost:8080/",
          "height": 430
        },
        "id": "CoXq-X5Z_xds",
        "outputId": "a56582e1-3c24-4e96-e8c7-eaf62c7df025"
      },
      "execution_count": 10,
      "outputs": [
        {
          "output_type": "display_data",
          "data": {
            "text/plain": [
              "<Figure size 640x480 with 1 Axes>"
            ],
            "image/png": "[encoded data removed]"
          },
          "metadata": {}
        }
      ]
    },
    {
      "cell_type": "markdown",
      "source": [
        "#Distribusi normal"
      ],
      "metadata": {
        "id": "zOOFxCpBBH7s"
      }
    },
    {
      "cell_type": "code",
      "source": [
        "from scipy.stats import norm\n",
        "data_nilai = norm.rvs(size = 1000, loc = 70, scale = 10)\n",
        "sns.histplot(data_nilai)\n",
        "plt.show()"
      ],
      "metadata": {
        "colab": {
          "base_uri": "https://localhost:8080/",
          "height": 430
        },
        "id": "CVk1-Ua-BE03",
        "outputId": "4528cdc0-c3bd-4c3e-8b6c-0fdd5b5987ca"
      },
      "execution_count": 12,
      "outputs": [
        {
          "output_type": "display_data",
          "data": {
            "text/plain": [
              "<Figure size 640x480 with 1 Axes>"
            ],
            "image/png": "[encoded data removed]"
          },
          "metadata": {}
        }
      ]
    },
    {
      "cell_type": "markdown",
      "source": [
        "#Distribusi Eksponensial"
      ],
      "metadata": {
        "id": "_GqpMneMD73E"
      }
    },
    {
      "cell_type": "code",
      "source": [
        "from scipy.stats import expon\n",
        "data_tunggu = expon.rvs(scale = 1, loc = 5, size = 1000)\n",
        "sns.histplot(data_tunggu)\n",
        "plt.show()"
      ],
      "metadata": {
        "colab": {
          "base_uri": "https://localhost:8080/",
          "height": 430
        },
        "id": "yJRb7BDsD3JL",
        "outputId": "edfd2463-4637-4d2d-875c-4df90f3ebde4"
      },
      "execution_count": 13,
      "outputs": [
        {
          "output_type": "display_data",
          "data": {
            "text/plain": [
              "<Figure size 640x480 with 1 Axes>"
            ],
            "image/png": "[encoded data removed]"
          },
          "metadata": {}
        }
      ]
    },
    {
      "cell_type": "code",
      "source": [],
      "metadata": {
        "id": "_szLVMkHEibj"
      },
      "execution_count": null,
      "outputs": []
    }
  ]
}